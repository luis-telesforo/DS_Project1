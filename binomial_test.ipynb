{
  "cells": [
    {
      "cell_type": "markdown",
      "source": [
        "#An alternative to Grid Search\n",
        "\n",
        "Grid Search is a brute force algorithm that helps tunning hyperparameters. Since it is brute force, Grid Search is expensive. To be precise if we want to find the best model out of 1000 different models, using a 5-fold cross validation we need to train 5000 models. \n",
        "\n",
        "We present an alternative that uses hypothesis test (binomial test) that only requires to train 1000 models. Thus, we decrease computational costs by 80%. In general if we use $k$-fold cross validation, we decrease computational costs by $\\frac{k-1}{k}$%"
      ],
      "metadata": {
        "id": "SDu8mw2j69O_"
      }
    },
    {
      "cell_type": "markdown",
      "source": [
        "#The implementation\n",
        "\n",
        "* We use ```binomtest``` from **scipy** to perform the hypothesis test.\n",
        "* We train 256 instances of ```GradientBoostingClassifier``` from **sklearn**\n",
        "* The dataset consists of samples of [Hotel reservations](https://www.kaggle.com/datasets/ahsan81/hotel-reservations-classification-dataset)\n",
        "* We split the data into train, validation and test sets. The test set will be unseen by our models. We evalute our final model on it.\n",
        "\n",
        "* We define several functions:\n",
        "\n",
        "1. ```fit(params,features)``` Fit our (256) models tracking parameters, input features and all metrics we will use\n",
        "\n",
        "2. ``` bt(models,dataset)``` The binomial test applied to the predictions our models return on a given dataset \n",
        "\n",
        "3. ```metric(models)``` A measure of overfitting of models based on binomial test\n",
        "\n",
        "4. ```drop(models)``` A function to do feature selection over a family of models\n",
        "\n",
        "5. ```scores(model,features,name)``` Returns a Series containing the scores reached by the model.\n",
        "\n",
        "* The selected model will be the one that minimizes ```metric(models)```\n",
        "* We record the time each cell needs to run"
      ],
      "metadata": {
        "id": "XButt7JgB_6T"
      }
    },
    {
      "cell_type": "code",
      "execution_count": 1,
      "metadata": {
        "colab": {
          "base_uri": "https://localhost:8080/"
        },
        "id": "XM3LPe4mmq5q",
        "outputId": "d69f6ff5-7ae6-4bc6-d472-1a3b364f8334"
      },
      "outputs": [
        {
          "output_type": "stream",
          "name": "stdout",
          "text": [
            "Looking in indexes: https://pypi.org/simple, https://us-python.pkg.dev/colab-wheels/public/simple/\n",
            "Requirement already satisfied: ipython-autotime in /usr/local/lib/python3.8/dist-packages (0.3.1)\n",
            "Requirement already satisfied: ipython in /usr/local/lib/python3.8/dist-packages (from ipython-autotime) (7.9.0)\n",
            "Requirement already satisfied: decorator in /usr/local/lib/python3.8/dist-packages (from ipython->ipython-autotime) (4.4.2)\n",
            "Requirement already satisfied: setuptools>=18.5 in /usr/local/lib/python3.8/dist-packages (from ipython->ipython-autotime) (57.4.0)\n",
            "Requirement already satisfied: prompt-toolkit<2.1.0,>=2.0.0 in /usr/local/lib/python3.8/dist-packages (from ipython->ipython-autotime) (2.0.10)\n",
            "Requirement already satisfied: backcall in /usr/local/lib/python3.8/dist-packages (from ipython->ipython-autotime) (0.2.0)\n",
            "Requirement already satisfied: traitlets>=4.2 in /usr/local/lib/python3.8/dist-packages (from ipython->ipython-autotime) (5.7.1)\n",
            "Requirement already satisfied: pexpect in /usr/local/lib/python3.8/dist-packages (from ipython->ipython-autotime) (4.8.0)\n",
            "Requirement already satisfied: pygments in /usr/local/lib/python3.8/dist-packages (from ipython->ipython-autotime) (2.6.1)\n",
            "Requirement already satisfied: jedi>=0.10 in /usr/local/lib/python3.8/dist-packages (from ipython->ipython-autotime) (0.18.2)\n",
            "Requirement already satisfied: pickleshare in /usr/local/lib/python3.8/dist-packages (from ipython->ipython-autotime) (0.7.5)\n",
            "Requirement already satisfied: parso<0.9.0,>=0.8.0 in /usr/local/lib/python3.8/dist-packages (from jedi>=0.10->ipython->ipython-autotime) (0.8.3)\n",
            "Requirement already satisfied: six>=1.9.0 in /usr/local/lib/python3.8/dist-packages (from prompt-toolkit<2.1.0,>=2.0.0->ipython->ipython-autotime) (1.15.0)\n",
            "Requirement already satisfied: wcwidth in /usr/local/lib/python3.8/dist-packages (from prompt-toolkit<2.1.0,>=2.0.0->ipython->ipython-autotime) (0.2.6)\n",
            "Requirement already satisfied: ptyprocess>=0.5 in /usr/local/lib/python3.8/dist-packages (from pexpect->ipython->ipython-autotime) (0.7.0)\n",
            "time: 3.21 ms (started: 2023-03-06 15:19:26 +00:00)\n"
          ]
        }
      ],
      "source": [
        "import pandas as pd\n",
        "import matplotlib.pyplot as plt\n",
        "import numpy as np\n",
        "\n",
        "from sklearn.model_selection import train_test_split,GridSearchCV,ParameterGrid\n",
        "\n",
        "\n",
        "from sklearn.ensemble import GradientBoostingClassifier\n",
        "from sklearn.metrics import roc_auc_score,precision_score,recall_score,f1_score,matthews_corrcoef,make_scorer\n",
        "from sklearn import metrics\n",
        "\n",
        "from scipy.stats import binomtest\n",
        "\n",
        "!pip install ipython-autotime\n",
        "%load_ext autotime"
      ]
    },
    {
      "cell_type": "code",
      "execution_count": 26,
      "metadata": {
        "colab": {
          "base_uri": "https://localhost:8080/"
        },
        "id": "fTrCMKh7dWyW",
        "outputId": "b1176484-d7bc-4b4f-9048-99afe08c13c2",
        "cellView": "form"
      },
      "outputs": [
        {
          "output_type": "stream",
          "name": "stdout",
          "text": [
            "time: 10.1 ms (started: 2023-03-06 17:24:43 +00:00)\n"
          ]
        }
      ],
      "source": [
        "#@title Functions\n",
        "def fit(params,features):\n",
        "  fit_models = []\n",
        "  \n",
        "  try:\n",
        "    param_grid = ParameterGrid(params)\n",
        "    len(np.array(features).shape)==1\n",
        "    for param in param_grid:\n",
        "      \n",
        "      X = X_train1[features]\n",
        "      VAL = X_val[features]\n",
        "\n",
        "      gb = GradientBoostingClassifier(**param,random_state=0)\n",
        "      gb = gb.fit(X,y_train1)\n",
        "    \n",
        "      pred_val = gb.predict(VAL) \n",
        "      pred_train = gb.predict(X)\n",
        "    \n",
        "      fit_models.append({'pred_val':pred_val,'pred_train':pred_train,'param':param,'gb':gb,'features':features})\n",
        "  except:\n",
        "    for param, feature in zip(params,features):\n",
        "\n",
        "      X = X_train1[feature]\n",
        "      VAL = X_val[feature]\n",
        "\n",
        "      gb = GradientBoostingClassifier(**param,random_state=0)\n",
        "      gb = gb.fit(X,y_train1)\n",
        "    \n",
        "      pred_val = gb.predict(VAL) \n",
        "      pred_train = gb.predict(X)\n",
        "    \n",
        "      fit_models.append({'pred_val':pred_val,'pred_train':pred_train,'param':param,'gb':gb,'features':feature})\n",
        "    \n",
        "  return fit_models \n",
        "\n",
        "\n",
        "def bt(models,dataset):\n",
        "  for j in models:\n",
        "    if dataset=='train':\n",
        "      pred =  j['pred_train']\n",
        "      trials = len(y_train1)\n",
        "      p = p_train\n",
        "    elif dataset=='validation':\n",
        "      pred =  j['pred_val']\n",
        "      trials = len(y_val)\n",
        "      p = p_val\n",
        "      \n",
        "    success = len(pred[pred==1])\n",
        "    model_bt = binomtest(success,trials,p=p,alternative='two-sided')\n",
        "  \n",
        "    j['bt_{}'.format(dataset)]=model_bt\n",
        "\n",
        "def metric(models):\n",
        "  for m in models:\n",
        "    per_errtrain = abs(m['bt_train'].proportion_estimate-p_train)\n",
        "    per_errval = abs(m['bt_validation'].proportion_estimate-p_val)\n",
        "\n",
        "    m['overfit']=abs(per_errtrain-per_errval)/per_errtrain\n",
        "\n",
        "\n",
        "def ft_select(models):\n",
        "  for l in models:\n",
        "    original = list(zip(df.drop('booking_status',axis=1).columns,l['gb'].feature_importances_))\n",
        "    original.sort(reverse=True,key=lambda x:x[1])\n",
        "    l['important_features'] = [y[0] for y in original[:-1]]\n",
        "\n",
        "\n",
        "def ft_pm_extract(models):\n",
        "  original_params = [x['param'] for x in models]\n",
        "  important_features = [x['important_features'] for x in models]\n",
        "  return original_params, important_features\n",
        "\n",
        "def refine(models,prev_models):\n",
        "  new_metrics= [x['overfit'] for x in models]\n",
        "  old_metrics = [x['overfit'] for x in prev_models]\n",
        "  to_compare = range(len(models))\n",
        "  errors = [abs(new_metrics[y]-old_metrics[y]) for y in to_compare]\n",
        "  \n",
        "  movement = [new_metrics[y]-old_metrics[y] for y in to_compare]\n",
        "  \n",
        "\n",
        "  for m in to_compare:\n",
        "    models[m]['error'] = movement[m]\n",
        "    models[m]['absolute_error'] = errors[m]\n",
        "\n",
        "  #models.sort(key=lambda y:y['error'])\n",
        "\n",
        "def drop(models):\n",
        "  ft_select(models)\n",
        "  old_param, new_feat = ft_pm_extract(models)\n",
        "  if len(new_feat[0])>0:\n",
        "    new_models = fit(old_param,new_feat)\n",
        "    bt(new_models,'train')\n",
        "    bt(new_models,'validation')\n",
        "    metric(new_models)\n",
        "    refine(new_models,models)\n",
        "    return new_models\n",
        "  else:\n",
        "    return []\n",
        "\n",
        "def scores(model,features,name):\n",
        "  y_pred = model.predict(X_test[features])\n",
        "  precision = precision_score(y_test,y_pred)\n",
        "  f1 = f1_score(y_test,y_pred)\n",
        "  roc_auc = roc_auc_score(y_test,y_pred)\n",
        "  mcc = matthews_corrcoef(y_test,y_pred)\n",
        "  return pd.Series({'Precision':precision,'F1':f1,'ROC_AUC':roc_auc,'MCC':mcc},name=name)"
      ]
    },
    {
      "cell_type": "markdown",
      "source": [
        "##Data preprocessing\n",
        "\n",
        "We will use a Kaggle datset to predict whether a reservation will be canceled. We use one-hote encoding to be able to pass categorical features to ```GradientBoostingClassifier```.  We need to drop some samples since their date is wrong."
      ],
      "metadata": {
        "id": "HwT0gEhuFgwj"
      }
    },
    {
      "cell_type": "code",
      "execution_count": 3,
      "metadata": {
        "colab": {
          "base_uri": "https://localhost:8080/",
          "height": 554
        },
        "id": "cR0xoOu-mtQc",
        "outputId": "26dd3f85-906c-4e93-c00d-95f44191018a"
      },
      "outputs": [
        {
          "output_type": "execute_result",
          "data": {
            "text/plain": [
              "            no_of_adults  no_of_children  no_of_weekend_nights  \\\n",
              "Booking_ID                                                       \n",
              "INN00001               2               0                     1   \n",
              "INN00002               2               0                     2   \n",
              "INN00003               1               0                     2   \n",
              "INN00004               2               0                     0   \n",
              "INN00005               2               0                     1   \n",
              "...                  ...             ...                   ...   \n",
              "INN36271               3               0                     2   \n",
              "INN36272               2               0                     1   \n",
              "INN36273               2               0                     2   \n",
              "INN36274               2               0                     0   \n",
              "INN36275               2               0                     1   \n",
              "\n",
              "            no_of_week_nights  required_car_parking_space  lead_time  year  \\\n",
              "Booking_ID                                                                   \n",
              "INN00001                    2                           0        224  2017   \n",
              "INN00002                    3                           0          5  2018   \n",
              "INN00003                    1                           0          1  2018   \n",
              "INN00004                    2                           0        211  2018   \n",
              "INN00005                    1                           0         48  2018   \n",
              "...                       ...                         ...        ...   ...   \n",
              "INN36271                    6                           0         85  2018   \n",
              "INN36272                    3                           0        228  2018   \n",
              "INN36273                    6                           0        148  2018   \n",
              "INN36274                    3                           0         63  2018   \n",
              "INN36275                    2                           0        207  2018   \n",
              "\n",
              "            month  day  repeated_guest  ...  room_type_reserved_Room_Type 2  \\\n",
              "Booking_ID                              ...                                   \n",
              "INN00001       10    2               0  ...                               0   \n",
              "INN00002       11    6               0  ...                               0   \n",
              "INN00003        2   28               0  ...                               0   \n",
              "INN00004        5   20               0  ...                               0   \n",
              "INN00005        4   11               0  ...                               0   \n",
              "...           ...  ...             ...  ...                             ...   \n",
              "INN36271        8    3               0  ...                               0   \n",
              "INN36272       10   17               0  ...                               0   \n",
              "INN36273        7    1               0  ...                               0   \n",
              "INN36274        4   21               0  ...                               0   \n",
              "INN36275       12   30               0  ...                               0   \n",
              "\n",
              "            room_type_reserved_Room_Type 3  room_type_reserved_Room_Type 4  \\\n",
              "Booking_ID                                                                   \n",
              "INN00001                                 0                               0   \n",
              "INN00002                                 0                               0   \n",
              "INN00003                                 0                               0   \n",
              "INN00004                                 0                               0   \n",
              "INN00005                                 0                               0   \n",
              "...                                    ...                             ...   \n",
              "INN36271                                 0                               1   \n",
              "INN36272                                 0                               0   \n",
              "INN36273                                 0                               0   \n",
              "INN36274                                 0                               0   \n",
              "INN36275                                 0                               0   \n",
              "\n",
              "            room_type_reserved_Room_Type 5  room_type_reserved_Room_Type 6  \\\n",
              "Booking_ID                                                                   \n",
              "INN00001                                 0                               0   \n",
              "INN00002                                 0                               0   \n",
              "INN00003                                 0                               0   \n",
              "INN00004                                 0                               0   \n",
              "INN00005                                 0                               0   \n",
              "...                                    ...                             ...   \n",
              "INN36271                                 0                               0   \n",
              "INN36272                                 0                               0   \n",
              "INN36273                                 0                               0   \n",
              "INN36274                                 0                               0   \n",
              "INN36275                                 0                               0   \n",
              "\n",
              "            room_type_reserved_Room_Type 7  market_segment_type_Complementary  \\\n",
              "Booking_ID                                                                      \n",
              "INN00001                                 0                                  0   \n",
              "INN00002                                 0                                  0   \n",
              "INN00003                                 0                                  0   \n",
              "INN00004                                 0                                  0   \n",
              "INN00005                                 0                                  0   \n",
              "...                                    ...                                ...   \n",
              "INN36271                                 0                                  0   \n",
              "INN36272                                 0                                  0   \n",
              "INN36273                                 0                                  0   \n",
              "INN36274                                 0                                  0   \n",
              "INN36275                                 0                                  0   \n",
              "\n",
              "            market_segment_type_Corporate  market_segment_type_Offline  \\\n",
              "Booking_ID                                                               \n",
              "INN00001                                0                            1   \n",
              "INN00002                                0                            0   \n",
              "INN00003                                0                            0   \n",
              "INN00004                                0                            0   \n",
              "INN00005                                0                            0   \n",
              "...                                   ...                          ...   \n",
              "INN36271                                0                            0   \n",
              "INN36272                                0                            0   \n",
              "INN36273                                0                            0   \n",
              "INN36274                                0                            0   \n",
              "INN36275                                0                            1   \n",
              "\n",
              "            market_segment_type_Online  \n",
              "Booking_ID                              \n",
              "INN00001                             0  \n",
              "INN00002                             1  \n",
              "INN00003                             1  \n",
              "INN00004                             1  \n",
              "INN00005                             1  \n",
              "...                                ...  \n",
              "INN36271                             1  \n",
              "INN36272                             1  \n",
              "INN36273                             1  \n",
              "INN36274                             1  \n",
              "INN36275                             0  \n",
              "\n",
              "[36238 rows x 28 columns]"
            ],
            "text/html": [
              "\n",
              "  <div id=\"df-0172a361-d129-474a-8313-c591c05abda0\">\n",
              "    <div class=\"colab-df-container\">\n",
              "      <div>\n",
              "<style scoped>\n",
              "    .dataframe tbody tr th:only-of-type {\n",
              "        vertical-align: middle;\n",
              "    }\n",
              "\n",
              "    .dataframe tbody tr th {\n",
              "        vertical-align: top;\n",
              "    }\n",
              "\n",
              "    .dataframe thead th {\n",
              "        text-align: right;\n",
              "    }\n",
              "</style>\n",
              "<table border=\"1\" class=\"dataframe\">\n",
              "  <thead>\n",
              "    <tr style=\"text-align: right;\">\n",
              "      <th></th>\n",
              "      <th>no_of_adults</th>\n",
              "      <th>no_of_children</th>\n",
              "      <th>no_of_weekend_nights</th>\n",
              "      <th>no_of_week_nights</th>\n",
              "      <th>required_car_parking_space</th>\n",
              "      <th>lead_time</th>\n",
              "      <th>year</th>\n",
              "      <th>month</th>\n",
              "      <th>day</th>\n",
              "      <th>repeated_guest</th>\n",
              "      <th>...</th>\n",
              "      <th>room_type_reserved_Room_Type 2</th>\n",
              "      <th>room_type_reserved_Room_Type 3</th>\n",
              "      <th>room_type_reserved_Room_Type 4</th>\n",
              "      <th>room_type_reserved_Room_Type 5</th>\n",
              "      <th>room_type_reserved_Room_Type 6</th>\n",
              "      <th>room_type_reserved_Room_Type 7</th>\n",
              "      <th>market_segment_type_Complementary</th>\n",
              "      <th>market_segment_type_Corporate</th>\n",
              "      <th>market_segment_type_Offline</th>\n",
              "      <th>market_segment_type_Online</th>\n",
              "    </tr>\n",
              "    <tr>\n",
              "      <th>Booking_ID</th>\n",
              "      <th></th>\n",
              "      <th></th>\n",
              "      <th></th>\n",
              "      <th></th>\n",
              "      <th></th>\n",
              "      <th></th>\n",
              "      <th></th>\n",
              "      <th></th>\n",
              "      <th></th>\n",
              "      <th></th>\n",
              "      <th></th>\n",
              "      <th></th>\n",
              "      <th></th>\n",
              "      <th></th>\n",
              "      <th></th>\n",
              "      <th></th>\n",
              "      <th></th>\n",
              "      <th></th>\n",
              "      <th></th>\n",
              "      <th></th>\n",
              "      <th></th>\n",
              "    </tr>\n",
              "  </thead>\n",
              "  <tbody>\n",
              "    <tr>\n",
              "      <th>INN00001</th>\n",
              "      <td>2</td>\n",
              "      <td>0</td>\n",
              "      <td>1</td>\n",
              "      <td>2</td>\n",
              "      <td>0</td>\n",
              "      <td>224</td>\n",
              "      <td>2017</td>\n",
              "      <td>10</td>\n",
              "      <td>2</td>\n",
              "      <td>0</td>\n",
              "      <td>...</td>\n",
              "      <td>0</td>\n",
              "      <td>0</td>\n",
              "      <td>0</td>\n",
              "      <td>0</td>\n",
              "      <td>0</td>\n",
              "      <td>0</td>\n",
              "      <td>0</td>\n",
              "      <td>0</td>\n",
              "      <td>1</td>\n",
              "      <td>0</td>\n",
              "    </tr>\n",
              "    <tr>\n",
              "      <th>INN00002</th>\n",
              "      <td>2</td>\n",
              "      <td>0</td>\n",
              "      <td>2</td>\n",
              "      <td>3</td>\n",
              "      <td>0</td>\n",
              "      <td>5</td>\n",
              "      <td>2018</td>\n",
              "      <td>11</td>\n",
              "      <td>6</td>\n",
              "      <td>0</td>\n",
              "      <td>...</td>\n",
              "      <td>0</td>\n",
              "      <td>0</td>\n",
              "      <td>0</td>\n",
              "      <td>0</td>\n",
              "      <td>0</td>\n",
              "      <td>0</td>\n",
              "      <td>0</td>\n",
              "      <td>0</td>\n",
              "      <td>0</td>\n",
              "      <td>1</td>\n",
              "    </tr>\n",
              "    <tr>\n",
              "      <th>INN00003</th>\n",
              "      <td>1</td>\n",
              "      <td>0</td>\n",
              "      <td>2</td>\n",
              "      <td>1</td>\n",
              "      <td>0</td>\n",
              "      <td>1</td>\n",
              "      <td>2018</td>\n",
              "      <td>2</td>\n",
              "      <td>28</td>\n",
              "      <td>0</td>\n",
              "      <td>...</td>\n",
              "      <td>0</td>\n",
              "      <td>0</td>\n",
              "      <td>0</td>\n",
              "      <td>0</td>\n",
              "      <td>0</td>\n",
              "      <td>0</td>\n",
              "      <td>0</td>\n",
              "      <td>0</td>\n",
              "      <td>0</td>\n",
              "      <td>1</td>\n",
              "    </tr>\n",
              "    <tr>\n",
              "      <th>INN00004</th>\n",
              "      <td>2</td>\n",
              "      <td>0</td>\n",
              "      <td>0</td>\n",
              "      <td>2</td>\n",
              "      <td>0</td>\n",
              "      <td>211</td>\n",
              "      <td>2018</td>\n",
              "      <td>5</td>\n",
              "      <td>20</td>\n",
              "      <td>0</td>\n",
              "      <td>...</td>\n",
              "      <td>0</td>\n",
              "      <td>0</td>\n",
              "      <td>0</td>\n",
              "      <td>0</td>\n",
              "      <td>0</td>\n",
              "      <td>0</td>\n",
              "      <td>0</td>\n",
              "      <td>0</td>\n",
              "      <td>0</td>\n",
              "      <td>1</td>\n",
              "    </tr>\n",
              "    <tr>\n",
              "      <th>INN00005</th>\n",
              "      <td>2</td>\n",
              "      <td>0</td>\n",
              "      <td>1</td>\n",
              "      <td>1</td>\n",
              "      <td>0</td>\n",
              "      <td>48</td>\n",
              "      <td>2018</td>\n",
              "      <td>4</td>\n",
              "      <td>11</td>\n",
              "      <td>0</td>\n",
              "      <td>...</td>\n",
              "      <td>0</td>\n",
              "      <td>0</td>\n",
              "      <td>0</td>\n",
              "      <td>0</td>\n",
              "      <td>0</td>\n",
              "      <td>0</td>\n",
              "      <td>0</td>\n",
              "      <td>0</td>\n",
              "      <td>0</td>\n",
              "      <td>1</td>\n",
              "    </tr>\n",
              "    <tr>\n",
              "      <th>...</th>\n",
              "      <td>...</td>\n",
              "      <td>...</td>\n",
              "      <td>...</td>\n",
              "      <td>...</td>\n",
              "      <td>...</td>\n",
              "      <td>...</td>\n",
              "      <td>...</td>\n",
              "      <td>...</td>\n",
              "      <td>...</td>\n",
              "      <td>...</td>\n",
              "      <td>...</td>\n",
              "      <td>...</td>\n",
              "      <td>...</td>\n",
              "      <td>...</td>\n",
              "      <td>...</td>\n",
              "      <td>...</td>\n",
              "      <td>...</td>\n",
              "      <td>...</td>\n",
              "      <td>...</td>\n",
              "      <td>...</td>\n",
              "      <td>...</td>\n",
              "    </tr>\n",
              "    <tr>\n",
              "      <th>INN36271</th>\n",
              "      <td>3</td>\n",
              "      <td>0</td>\n",
              "      <td>2</td>\n",
              "      <td>6</td>\n",
              "      <td>0</td>\n",
              "      <td>85</td>\n",
              "      <td>2018</td>\n",
              "      <td>8</td>\n",
              "      <td>3</td>\n",
              "      <td>0</td>\n",
              "      <td>...</td>\n",
              "      <td>0</td>\n",
              "      <td>0</td>\n",
              "      <td>1</td>\n",
              "      <td>0</td>\n",
              "      <td>0</td>\n",
              "      <td>0</td>\n",
              "      <td>0</td>\n",
              "      <td>0</td>\n",
              "      <td>0</td>\n",
              "      <td>1</td>\n",
              "    </tr>\n",
              "    <tr>\n",
              "      <th>INN36272</th>\n",
              "      <td>2</td>\n",
              "      <td>0</td>\n",
              "      <td>1</td>\n",
              "      <td>3</td>\n",
              "      <td>0</td>\n",
              "      <td>228</td>\n",
              "      <td>2018</td>\n",
              "      <td>10</td>\n",
              "      <td>17</td>\n",
              "      <td>0</td>\n",
              "      <td>...</td>\n",
              "      <td>0</td>\n",
              "      <td>0</td>\n",
              "      <td>0</td>\n",
              "      <td>0</td>\n",
              "      <td>0</td>\n",
              "      <td>0</td>\n",
              "      <td>0</td>\n",
              "      <td>0</td>\n",
              "      <td>0</td>\n",
              "      <td>1</td>\n",
              "    </tr>\n",
              "    <tr>\n",
              "      <th>INN36273</th>\n",
              "      <td>2</td>\n",
              "      <td>0</td>\n",
              "      <td>2</td>\n",
              "      <td>6</td>\n",
              "      <td>0</td>\n",
              "      <td>148</td>\n",
              "      <td>2018</td>\n",
              "      <td>7</td>\n",
              "      <td>1</td>\n",
              "      <td>0</td>\n",
              "      <td>...</td>\n",
              "      <td>0</td>\n",
              "      <td>0</td>\n",
              "      <td>0</td>\n",
              "      <td>0</td>\n",
              "      <td>0</td>\n",
              "      <td>0</td>\n",
              "      <td>0</td>\n",
              "      <td>0</td>\n",
              "      <td>0</td>\n",
              "      <td>1</td>\n",
              "    </tr>\n",
              "    <tr>\n",
              "      <th>INN36274</th>\n",
              "      <td>2</td>\n",
              "      <td>0</td>\n",
              "      <td>0</td>\n",
              "      <td>3</td>\n",
              "      <td>0</td>\n",
              "      <td>63</td>\n",
              "      <td>2018</td>\n",
              "      <td>4</td>\n",
              "      <td>21</td>\n",
              "      <td>0</td>\n",
              "      <td>...</td>\n",
              "      <td>0</td>\n",
              "      <td>0</td>\n",
              "      <td>0</td>\n",
              "      <td>0</td>\n",
              "      <td>0</td>\n",
              "      <td>0</td>\n",
              "      <td>0</td>\n",
              "      <td>0</td>\n",
              "      <td>0</td>\n",
              "      <td>1</td>\n",
              "    </tr>\n",
              "    <tr>\n",
              "      <th>INN36275</th>\n",
              "      <td>2</td>\n",
              "      <td>0</td>\n",
              "      <td>1</td>\n",
              "      <td>2</td>\n",
              "      <td>0</td>\n",
              "      <td>207</td>\n",
              "      <td>2018</td>\n",
              "      <td>12</td>\n",
              "      <td>30</td>\n",
              "      <td>0</td>\n",
              "      <td>...</td>\n",
              "      <td>0</td>\n",
              "      <td>0</td>\n",
              "      <td>0</td>\n",
              "      <td>0</td>\n",
              "      <td>0</td>\n",
              "      <td>0</td>\n",
              "      <td>0</td>\n",
              "      <td>0</td>\n",
              "      <td>1</td>\n",
              "      <td>0</td>\n",
              "    </tr>\n",
              "  </tbody>\n",
              "</table>\n",
              "<p>36238 rows × 28 columns</p>\n",
              "</div>\n",
              "      <button class=\"colab-df-convert\" onclick=\"convertToInteractive('df-0172a361-d129-474a-8313-c591c05abda0')\"\n",
              "              title=\"Convert this dataframe to an interactive table.\"\n",
              "              style=\"display:none;\">\n",
              "        \n",
              "  <svg xmlns=\"http://www.w3.org/2000/svg\" height=\"24px\"viewBox=\"0 0 24 24\"\n",
              "       width=\"24px\">\n",
              "    <path d=\"M0 0h24v24H0V0z\" fill=\"none\"/>\n",
              "    <path d=\"M18.56 5.44l.94 2.06.94-2.06 2.06-.94-2.06-.94-.94-2.06-.94 2.06-2.06.94zm-11 1L8.5 8.5l.94-2.06 2.06-.94-2.06-.94L8.5 2.5l-.94 2.06-2.06.94zm10 10l.94 2.06.94-2.06 2.06-.94-2.06-.94-.94-2.06-.94 2.06-2.06.94z\"/><path d=\"M17.41 7.96l-1.37-1.37c-.4-.4-.92-.59-1.43-.59-.52 0-1.04.2-1.43.59L10.3 9.45l-7.72 7.72c-.78.78-.78 2.05 0 2.83L4 21.41c.39.39.9.59 1.41.59.51 0 1.02-.2 1.41-.59l7.78-7.78 2.81-2.81c.8-.78.8-2.07 0-2.86zM5.41 20L4 18.59l7.72-7.72 1.47 1.35L5.41 20z\"/>\n",
              "  </svg>\n",
              "      </button>\n",
              "      \n",
              "  <style>\n",
              "    .colab-df-container {\n",
              "      display:flex;\n",
              "      flex-wrap:wrap;\n",
              "      gap: 12px;\n",
              "    }\n",
              "\n",
              "    .colab-df-convert {\n",
              "      background-color: #E8F0FE;\n",
              "      border: none;\n",
              "      border-radius: 50%;\n",
              "      cursor: pointer;\n",
              "      display: none;\n",
              "      fill: #1967D2;\n",
              "      height: 32px;\n",
              "      padding: 0 0 0 0;\n",
              "      width: 32px;\n",
              "    }\n",
              "\n",
              "    .colab-df-convert:hover {\n",
              "      background-color: #E2EBFA;\n",
              "      box-shadow: 0px 1px 2px rgba(60, 64, 67, 0.3), 0px 1px 3px 1px rgba(60, 64, 67, 0.15);\n",
              "      fill: #174EA6;\n",
              "    }\n",
              "\n",
              "    [theme=dark] .colab-df-convert {\n",
              "      background-color: #3B4455;\n",
              "      fill: #D2E3FC;\n",
              "    }\n",
              "\n",
              "    [theme=dark] .colab-df-convert:hover {\n",
              "      background-color: #434B5C;\n",
              "      box-shadow: 0px 1px 3px 1px rgba(0, 0, 0, 0.15);\n",
              "      filter: drop-shadow(0px 1px 2px rgba(0, 0, 0, 0.3));\n",
              "      fill: #FFFFFF;\n",
              "    }\n",
              "  </style>\n",
              "\n",
              "      <script>\n",
              "        const buttonEl =\n",
              "          document.querySelector('#df-0172a361-d129-474a-8313-c591c05abda0 button.colab-df-convert');\n",
              "        buttonEl.style.display =\n",
              "          google.colab.kernel.accessAllowed ? 'block' : 'none';\n",
              "\n",
              "        async function convertToInteractive(key) {\n",
              "          const element = document.querySelector('#df-0172a361-d129-474a-8313-c591c05abda0');\n",
              "          const dataTable =\n",
              "            await google.colab.kernel.invokeFunction('convertToInteractive',\n",
              "                                                     [key], {});\n",
              "          if (!dataTable) return;\n",
              "\n",
              "          const docLinkHtml = 'Like what you see? Visit the ' +\n",
              "            '<a target=\"_blank\" href=https://colab.research.google.com/notebooks/data_table.ipynb>data table notebook</a>'\n",
              "            + ' to learn more about interactive tables.';\n",
              "          element.innerHTML = '';\n",
              "          dataTable['output_type'] = 'display_data';\n",
              "          await google.colab.output.renderOutput(dataTable, element);\n",
              "          const docLink = document.createElement('div');\n",
              "          docLink.innerHTML = docLinkHtml;\n",
              "          element.appendChild(docLink);\n",
              "        }\n",
              "      </script>\n",
              "    </div>\n",
              "  </div>\n",
              "  "
            ]
          },
          "metadata": {},
          "execution_count": 3
        },
        {
          "output_type": "stream",
          "name": "stdout",
          "text": [
            "time: 276 ms (started: 2023-03-06 15:19:26 +00:00)\n"
          ]
        }
      ],
      "source": [
        "df = pd.read_csv('/content/drive/MyDrive/kaggle/Hotel Reservations.csv/Hotel Reservations.csv')\n",
        "df = df.rename({'arrival_year':'year','arrival_month':'month','arrival_date':'day'},axis=1)\n",
        "df = df[(df['day']<29)|(df['month']!=2)]\n",
        "df = df.set_index('Booking_ID')\n",
        "df['booking_status'] = np.where(df['booking_status']=='Not_Canceled',1,0)\n",
        "\n",
        "df = pd.get_dummies(df,drop_first=True)\n",
        "df"
      ]
    },
    {
      "cell_type": "markdown",
      "source": [
        "We divide our dataset: train, validation and test sets."
      ],
      "metadata": {
        "id": "L_tUF9sjFrIP"
      }
    },
    {
      "cell_type": "code",
      "execution_count": 4,
      "metadata": {
        "colab": {
          "base_uri": "https://localhost:8080/"
        },
        "id": "Cal8iUFYoOS9",
        "outputId": "55e67bf6-813b-4982-efb7-7b1a047a9a9d"
      },
      "outputs": [
        {
          "output_type": "stream",
          "name": "stdout",
          "text": [
            "time: 66.6 ms (started: 2023-03-06 15:19:26 +00:00)\n"
          ]
        }
      ],
      "source": [
        "X_train, X_test, y_train, y_test = train_test_split(df.drop('booking_status',axis=1),df['booking_status'],random_state=0)\n",
        "X_train1, X_val, y_train1, y_val = train_test_split(X_train,y_train,random_state=0)"
      ]
    },
    {
      "cell_type": "markdown",
      "source": [
        "##Fit \n",
        "We want to choose the best hyperparameters among 256 options. Instead of doing crosvalidation we will fit once our 256 models."
      ],
      "metadata": {
        "id": "vwpTGa8x8dSm"
      }
    },
    {
      "cell_type": "code",
      "execution_count": 5,
      "metadata": {
        "colab": {
          "base_uri": "https://localhost:8080/"
        },
        "id": "4XEEqPfjmyaL",
        "outputId": "dcdcbabf-666e-473b-a6f1-637e85f5a400"
      },
      "outputs": [
        {
          "output_type": "stream",
          "name": "stdout",
          "text": [
            "time: 14min 10s (started: 2023-03-06 15:19:26 +00:00)\n"
          ]
        }
      ],
      "source": [
        "params = {'learning_rate': [.01,.04,0.1,0.6],\n",
        "  'max_depth': [2,3,4,6],\n",
        "  'min_samples_leaf': [50,100,200,300],\n",
        "  'n_estimators': [10, 50 , 100,200]}\n",
        "\n",
        "model = fit(params,df.drop('booking_status',axis=1).columns)"
      ]
    },
    {
      "cell_type": "markdown",
      "source": [
        "##Model selection\n",
        "We take the top 100 models according to a binomial hypothesis test. To be precise we want to test if the distribution of classes predicted by our models matches the expected distribution, the one of the validation targets. "
      ],
      "metadata": {
        "id": "of-QdA798-3w"
      }
    },
    {
      "cell_type": "code",
      "execution_count": 6,
      "metadata": {
        "colab": {
          "base_uri": "https://localhost:8080/"
        },
        "id": "LJWWa_D4xCQh",
        "outputId": "1e41cc10-98d6-44af-9a52-806d50af272b"
      },
      "outputs": [
        {
          "output_type": "stream",
          "name": "stdout",
          "text": [
            "time: 683 ms (started: 2023-03-06 15:33:37 +00:00)\n"
          ]
        }
      ],
      "source": [
        "p_train = len(y_train1[y_train1==1])/len(y_train1)\n",
        "p_val = len(y_val[y_val==1])/len(y_val)\n",
        "\n",
        "bt(model,'validation')\n",
        "\n",
        "model_vpv = model.copy()\n",
        "model_vpv.sort(reverse=True,key=lambda x: x['bt_validation'].pvalue)\n",
        "\n",
        "best_val = model_vpv[0:100]"
      ]
    },
    {
      "cell_type": "markdown",
      "source": [
        "We take the top 50 models according to a binomial hypothesis test. The same procedure as above, but this time our expected distribution corresponds to train targets."
      ],
      "metadata": {
        "id": "46cP8-qe-67n"
      }
    },
    {
      "cell_type": "code",
      "execution_count": 7,
      "metadata": {
        "colab": {
          "base_uri": "https://localhost:8080/"
        },
        "id": "Auq34RyweMtm",
        "outputId": "25ad8964-d78c-46a7-d04d-cf61d1853f8b"
      },
      "outputs": [
        {
          "output_type": "stream",
          "name": "stdout",
          "text": [
            "time: 709 ms (started: 2023-03-06 15:33:38 +00:00)\n"
          ]
        }
      ],
      "source": [
        "bt(best_val,'train')\n",
        "model_tpv = best_val.copy()\n",
        "model_tpv.sort(reverse=True,key=lambda x: x['bt_train'].pvalue)\n",
        "\n",
        "best_train = model_tpv[0:50]"
      ]
    },
    {
      "cell_type": "markdown",
      "source": [
        "We use the statistics obtained by the binomial tests to determine whether our models are overfit. The key concept is that the binomial test tell us how far is our predicted distribution from the real distribution. We drop those models above the .6 percentile according to our metric."
      ],
      "metadata": {
        "id": "ZINNluTy_R3u"
      }
    },
    {
      "cell_type": "code",
      "execution_count": 8,
      "metadata": {
        "colab": {
          "base_uri": "https://localhost:8080/"
        },
        "id": "IFM8N0PEzBWE",
        "outputId": "0740181b-e0fb-4198-ecfe-fd4ef9c0d038"
      },
      "outputs": [
        {
          "output_type": "stream",
          "name": "stdout",
          "text": [
            "time: 2.4 ms (started: 2023-03-06 15:33:38 +00:00)\n"
          ]
        }
      ],
      "source": [
        "metric(best_train)\n",
        "best_train.sort(key=lambda x: x['overfit'])\n",
        "winners = best_train[0:20]"
      ]
    },
    {
      "cell_type": "markdown",
      "source": [
        "###Raw Selection\n",
        "\n",
        "We take the model with the less overfitting. We use its parameters to train a new model on the train and validation sets. We evalute it with the test set."
      ],
      "metadata": {
        "id": "qMnKgrmOSyaA"
      }
    },
    {
      "cell_type": "code",
      "source": [
        "best_simple_params = winners[0]['param']\n",
        "simple_features = winners[0]['features']\n",
        "simple = GradientBoostingClassifier(**best_simple_params,random_state=0)\n",
        "simple.fit(X_train,y_train)\n",
        "\n",
        "simple_scores = scores(simple,features=simple_features,name='Model_binomial_test')\n",
        "simple_scores"
      ],
      "metadata": {
        "colab": {
          "base_uri": "https://localhost:8080/"
        },
        "id": "-yL787tP_J3M",
        "outputId": "9575d96c-f8b4-40f7-e8a7-5b845ea4b140"
      },
      "execution_count": 36,
      "outputs": [
        {
          "output_type": "execute_result",
          "data": {
            "text/plain": [
              "Precision    0.901567\n",
              "F1           0.919093\n",
              "ROC_AUC      0.864365\n",
              "MCC          0.745456\n",
              "Name: Model_binomial_test, dtype: float64"
            ]
          },
          "metadata": {},
          "execution_count": 36
        },
        {
          "output_type": "stream",
          "name": "stdout",
          "text": [
            "time: 4.77 s (started: 2023-03-06 17:32:27 +00:00)\n"
          ]
        }
      ]
    },
    {
      "cell_type": "markdown",
      "source": [
        "### Feature Selection\n",
        "Before comparing the above model with the model Grid Searh finds, we will extract another model using feature selection.\n",
        "\n",
        "We have chosen 20 out of 256 models. Now, we improve them with feature selection. In this case we only have 27 features, so we can drop one at a time, the one with the less importance."
      ],
      "metadata": {
        "id": "u7ZU9Y_zBKDZ"
      }
    },
    {
      "cell_type": "code",
      "execution_count": 10,
      "metadata": {
        "colab": {
          "base_uri": "https://localhost:8080/"
        },
        "id": "uLJyJ3n2gtVk",
        "outputId": "30bb01b0-f7a3-4160-df98-0d697cca397c"
      },
      "outputs": [
        {
          "output_type": "stream",
          "name": "stdout",
          "text": [
            "time: 24min 45s (started: 2023-03-06 15:33:49 +00:00)\n"
          ]
        }
      ],
      "source": [
        "history = [winners]\n",
        "begin = winners\n",
        "while len(begin)>=1:\n",
        "  next = drop(begin)\n",
        "  history.append(next)\n",
        "  begin = next"
      ]
    },
    {
      "cell_type": "markdown",
      "source": [
        "Thus, we have a family of models whose input varies in size. We choose the one tha minimizes overfit."
      ],
      "metadata": {
        "id": "8GiPg_VrE2CU"
      }
    },
    {
      "cell_type": "code",
      "execution_count": 11,
      "metadata": {
        "colab": {
          "base_uri": "https://localhost:8080/"
        },
        "id": "kgcyMfToEmpI",
        "outputId": "2365dd59-f867-4c55-8933-12817101edb7"
      },
      "outputs": [
        {
          "output_type": "stream",
          "name": "stdout",
          "text": [
            "time: 4.9 ms (started: 2023-03-06 15:58:35 +00:00)\n"
          ]
        }
      ],
      "source": [
        "model_fam = []\n",
        "for i in range(len(winners)):\n",
        "  model_i = [x[i] for x in history[:-1]]\n",
        "  model_i.sort(key=lambda y:y['overfit'])\n",
        "  model_fam.append(model_i)\n",
        "\n",
        "best_fam = [x[0] for x in model_fam]\n",
        "best_fam.sort(key=lambda y:y['overfit'])"
      ]
    },
    {
      "cell_type": "markdown",
      "source": [
        "Now, we train our model on the train and validation sets. Then we calculate four scores."
      ],
      "metadata": {
        "id": "6ou56Z2ZFY75"
      }
    },
    {
      "cell_type": "code",
      "execution_count": 37,
      "metadata": {
        "colab": {
          "base_uri": "https://localhost:8080/"
        },
        "id": "ZDFxemsSoPdW",
        "outputId": "b61e13d2-89f8-4c2f-af3a-1c38ba10e242"
      },
      "outputs": [
        {
          "output_type": "execute_result",
          "data": {
            "text/plain": [
              "Precision    0.896351\n",
              "F1           0.916533\n",
              "ROC_AUC      0.858326\n",
              "MCC          0.736104\n",
              "Name: Model_binomial_test_feature_selection, dtype: float64"
            ]
          },
          "metadata": {},
          "execution_count": 37
        },
        {
          "output_type": "stream",
          "name": "stdout",
          "text": [
            "time: 10.4 s (started: 2023-03-06 17:32:32 +00:00)\n"
          ]
        }
      ],
      "source": [
        "overall_best_params = best_fam[0]['param']\n",
        "overall_best_features = best_fam[0]['features']\n",
        "overall_best = GradientBoostingClassifier(**overall_best_params,random_state=0)\n",
        "overall_best.fit(X_train[overall_best_features],y_train)\n",
        "\n",
        "ob_scores =scores(overall_best,features=overall_best_features,name='Model_binomial_test_feature_selection')\n",
        "ob_scores"
      ]
    },
    {
      "cell_type": "markdown",
      "source": [
        "###Grid Search\n",
        "We will compare our two models with the model obtained by a grid search using cv.\n"
      ],
      "metadata": {
        "id": "eTbzZsOzT8-1"
      }
    },
    {
      "cell_type": "code",
      "execution_count": 13,
      "metadata": {
        "id": "svQaKroMn7CX",
        "colab": {
          "base_uri": "https://localhost:8080/",
          "height": 135
        },
        "outputId": "a959ed4c-6f2d-436c-e167-555d805a0e6c"
      },
      "outputs": [
        {
          "output_type": "execute_result",
          "data": {
            "text/plain": [
              "GridSearchCV(estimator=GradientBoostingClassifier(random_state=0),\n",
              "             param_grid={'learning_rate': [0.01, 0.04, 0.1, 0.6],\n",
              "                         'max_depth': [2, 3, 4, 6],\n",
              "                         'min_samples_leaf': [50, 100, 200, 300],\n",
              "                         'n_estimators': [10, 50, 100, 200]},\n",
              "             refit=False,\n",
              "             scoring={'f1': make_scorer(f1_score),\n",
              "                      'mcc': make_scorer(matthews_corrcoef),\n",
              "                      'precision': make_scorer(precision_score),\n",
              "                      'roc_auc': make_scorer(roc_auc_score)})"
            ],
            "text/html": [
              "<style>#sk-container-id-1 {color: black;background-color: white;}#sk-container-id-1 pre{padding: 0;}#sk-container-id-1 div.sk-toggleable {background-color: white;}#sk-container-id-1 label.sk-toggleable__label {cursor: pointer;display: block;width: 100%;margin-bottom: 0;padding: 0.3em;box-sizing: border-box;text-align: center;}#sk-container-id-1 label.sk-toggleable__label-arrow:before {content: \"▸\";float: left;margin-right: 0.25em;color: #696969;}#sk-container-id-1 label.sk-toggleable__label-arrow:hover:before {color: black;}#sk-container-id-1 div.sk-estimator:hover label.sk-toggleable__label-arrow:before {color: black;}#sk-container-id-1 div.sk-toggleable__content {max-height: 0;max-width: 0;overflow: hidden;text-align: left;background-color: #f0f8ff;}#sk-container-id-1 div.sk-toggleable__content pre {margin: 0.2em;color: black;border-radius: 0.25em;background-color: #f0f8ff;}#sk-container-id-1 input.sk-toggleable__control:checked~div.sk-toggleable__content {max-height: 200px;max-width: 100%;overflow: auto;}#sk-container-id-1 input.sk-toggleable__control:checked~label.sk-toggleable__label-arrow:before {content: \"▾\";}#sk-container-id-1 div.sk-estimator input.sk-toggleable__control:checked~label.sk-toggleable__label {background-color: #d4ebff;}#sk-container-id-1 div.sk-label input.sk-toggleable__control:checked~label.sk-toggleable__label {background-color: #d4ebff;}#sk-container-id-1 input.sk-hidden--visually {border: 0;clip: rect(1px 1px 1px 1px);clip: rect(1px, 1px, 1px, 1px);height: 1px;margin: -1px;overflow: hidden;padding: 0;position: absolute;width: 1px;}#sk-container-id-1 div.sk-estimator {font-family: monospace;background-color: #f0f8ff;border: 1px dotted black;border-radius: 0.25em;box-sizing: border-box;margin-bottom: 0.5em;}#sk-container-id-1 div.sk-estimator:hover {background-color: #d4ebff;}#sk-container-id-1 div.sk-parallel-item::after {content: \"\";width: 100%;border-bottom: 1px solid gray;flex-grow: 1;}#sk-container-id-1 div.sk-label:hover label.sk-toggleable__label {background-color: #d4ebff;}#sk-container-id-1 div.sk-serial::before {content: \"\";position: absolute;border-left: 1px solid gray;box-sizing: border-box;top: 0;bottom: 0;left: 50%;z-index: 0;}#sk-container-id-1 div.sk-serial {display: flex;flex-direction: column;align-items: center;background-color: white;padding-right: 0.2em;padding-left: 0.2em;position: relative;}#sk-container-id-1 div.sk-item {position: relative;z-index: 1;}#sk-container-id-1 div.sk-parallel {display: flex;align-items: stretch;justify-content: center;background-color: white;position: relative;}#sk-container-id-1 div.sk-item::before, #sk-container-id-1 div.sk-parallel-item::before {content: \"\";position: absolute;border-left: 1px solid gray;box-sizing: border-box;top: 0;bottom: 0;left: 50%;z-index: -1;}#sk-container-id-1 div.sk-parallel-item {display: flex;flex-direction: column;z-index: 1;position: relative;background-color: white;}#sk-container-id-1 div.sk-parallel-item:first-child::after {align-self: flex-end;width: 50%;}#sk-container-id-1 div.sk-parallel-item:last-child::after {align-self: flex-start;width: 50%;}#sk-container-id-1 div.sk-parallel-item:only-child::after {width: 0;}#sk-container-id-1 div.sk-dashed-wrapped {border: 1px dashed gray;margin: 0 0.4em 0.5em 0.4em;box-sizing: border-box;padding-bottom: 0.4em;background-color: white;}#sk-container-id-1 div.sk-label label {font-family: monospace;font-weight: bold;display: inline-block;line-height: 1.2em;}#sk-container-id-1 div.sk-label-container {text-align: center;}#sk-container-id-1 div.sk-container {/* jupyter's `normalize.less` sets `[hidden] { display: none; }` but bootstrap.min.css set `[hidden] { display: none !important; }` so we also need the `!important` here to be able to override the default hidden behavior on the sphinx rendered scikit-learn.org. See: https://github.com/scikit-learn/scikit-learn/issues/21755 */display: inline-block !important;position: relative;}#sk-container-id-1 div.sk-text-repr-fallback {display: none;}</style><div id=\"sk-container-id-1\" class=\"sk-top-container\"><div class=\"sk-text-repr-fallback\"><pre>GridSearchCV(estimator=GradientBoostingClassifier(random_state=0),\n",
              "             param_grid={&#x27;learning_rate&#x27;: [0.01, 0.04, 0.1, 0.6],\n",
              "                         &#x27;max_depth&#x27;: [2, 3, 4, 6],\n",
              "                         &#x27;min_samples_leaf&#x27;: [50, 100, 200, 300],\n",
              "                         &#x27;n_estimators&#x27;: [10, 50, 100, 200]},\n",
              "             refit=False,\n",
              "             scoring={&#x27;f1&#x27;: make_scorer(f1_score),\n",
              "                      &#x27;mcc&#x27;: make_scorer(matthews_corrcoef),\n",
              "                      &#x27;precision&#x27;: make_scorer(precision_score),\n",
              "                      &#x27;roc_auc&#x27;: make_scorer(roc_auc_score)})</pre><b>In a Jupyter environment, please rerun this cell to show the HTML representation or trust the notebook. <br />On GitHub, the HTML representation is unable to render, please try loading this page with nbviewer.org.</b></div><div class=\"sk-container\" hidden><div class=\"sk-item sk-dashed-wrapped\"><div class=\"sk-label-container\"><div class=\"sk-label sk-toggleable\"><input class=\"sk-toggleable__control sk-hidden--visually\" id=\"sk-estimator-id-1\" type=\"checkbox\" ><label for=\"sk-estimator-id-1\" class=\"sk-toggleable__label sk-toggleable__label-arrow\">GridSearchCV</label><div class=\"sk-toggleable__content\"><pre>GridSearchCV(estimator=GradientBoostingClassifier(random_state=0),\n",
              "             param_grid={&#x27;learning_rate&#x27;: [0.01, 0.04, 0.1, 0.6],\n",
              "                         &#x27;max_depth&#x27;: [2, 3, 4, 6],\n",
              "                         &#x27;min_samples_leaf&#x27;: [50, 100, 200, 300],\n",
              "                         &#x27;n_estimators&#x27;: [10, 50, 100, 200]},\n",
              "             refit=False,\n",
              "             scoring={&#x27;f1&#x27;: make_scorer(f1_score),\n",
              "                      &#x27;mcc&#x27;: make_scorer(matthews_corrcoef),\n",
              "                      &#x27;precision&#x27;: make_scorer(precision_score),\n",
              "                      &#x27;roc_auc&#x27;: make_scorer(roc_auc_score)})</pre></div></div></div><div class=\"sk-parallel\"><div class=\"sk-parallel-item\"><div class=\"sk-item\"><div class=\"sk-label-container\"><div class=\"sk-label sk-toggleable\"><input class=\"sk-toggleable__control sk-hidden--visually\" id=\"sk-estimator-id-2\" type=\"checkbox\" ><label for=\"sk-estimator-id-2\" class=\"sk-toggleable__label sk-toggleable__label-arrow\">estimator: GradientBoostingClassifier</label><div class=\"sk-toggleable__content\"><pre>GradientBoostingClassifier(random_state=0)</pre></div></div></div><div class=\"sk-serial\"><div class=\"sk-item\"><div class=\"sk-estimator sk-toggleable\"><input class=\"sk-toggleable__control sk-hidden--visually\" id=\"sk-estimator-id-3\" type=\"checkbox\" ><label for=\"sk-estimator-id-3\" class=\"sk-toggleable__label sk-toggleable__label-arrow\">GradientBoostingClassifier</label><div class=\"sk-toggleable__content\"><pre>GradientBoostingClassifier(random_state=0)</pre></div></div></div></div></div></div></div></div></div></div>"
            ]
          },
          "metadata": {},
          "execution_count": 13
        },
        {
          "output_type": "stream",
          "name": "stdout",
          "text": [
            "time: 1h 12min 35s (started: 2023-03-06 15:58:42 +00:00)\n"
          ]
        }
      ],
      "source": [
        "params = {'learning_rate': [.01,.04,0.1,0.6],\n",
        "  'max_depth': [2,3,4,6],\n",
        "  'min_samples_leaf': [50,100,200,300],\n",
        "  'n_estimators': [10, 50 , 100,200]}\n",
        "\n",
        "gb = GradientBoostingClassifier(random_state=0)\n",
        "gs = GridSearchCV(gb,\n",
        "                  params,\n",
        "                  scoring={'precision':make_scorer(metrics.precision_score),\n",
        "                           'f1':make_scorer(metrics.f1_score),\n",
        "                           'roc_auc':make_scorer(metrics.roc_auc_score),\n",
        "                           'mcc':make_scorer(metrics.matthews_corrcoef)},\n",
        "                  refit=False)\n",
        "gs.fit(X_train,y_train)"
      ]
    },
    {
      "cell_type": "markdown",
      "source": [
        "Since we are interested in four scores, we must check the best model for each score."
      ],
      "metadata": {
        "id": "jVI_tDxGIAlF"
      }
    },
    {
      "cell_type": "code",
      "execution_count": 14,
      "metadata": {
        "id": "RJ7aLsrJ7c2_",
        "colab": {
          "base_uri": "https://localhost:8080/"
        },
        "outputId": "10af31b3-fff1-4dd2-d635-832c9331ad29"
      },
      "outputs": [
        {
          "output_type": "execute_result",
          "data": {
            "text/plain": [
              "{'learning_rate': 0.6,\n",
              " 'max_depth': 6,\n",
              " 'min_samples_leaf': 50,\n",
              " 'n_estimators': 200}"
            ]
          },
          "metadata": {},
          "execution_count": 14
        },
        {
          "output_type": "stream",
          "name": "stdout",
          "text": [
            "time: 5.51 ms (started: 2023-03-06 17:11:18 +00:00)\n"
          ]
        }
      ],
      "source": [
        "rank_precision = gs.cv_results_['rank_test_precision']\n",
        "best_precision = np.where(rank_precision==1)[0]\n",
        "gs.cv_results_['params'][best_precision[0]]"
      ]
    },
    {
      "cell_type": "code",
      "execution_count": 15,
      "metadata": {
        "id": "fI5uXTDj7qRm",
        "colab": {
          "base_uri": "https://localhost:8080/"
        },
        "outputId": "ff767270-1f16-419a-f2cb-3fbea43a12de"
      },
      "outputs": [
        {
          "output_type": "execute_result",
          "data": {
            "text/plain": [
              "{'learning_rate': 0.6,\n",
              " 'max_depth': 6,\n",
              " 'min_samples_leaf': 50,\n",
              " 'n_estimators': 200}"
            ]
          },
          "metadata": {},
          "execution_count": 15
        },
        {
          "output_type": "stream",
          "name": "stdout",
          "text": [
            "time: 5.42 ms (started: 2023-03-06 17:11:18 +00:00)\n"
          ]
        }
      ],
      "source": [
        "rank_f1 = gs.cv_results_['rank_test_f1']\n",
        "best_f1 = np.where(rank_f1==1)[0]\n",
        "gs.cv_results_['params'][best_f1[0]]"
      ]
    },
    {
      "cell_type": "code",
      "execution_count": 16,
      "metadata": {
        "id": "rBoVoBnjr-p-",
        "colab": {
          "base_uri": "https://localhost:8080/"
        },
        "outputId": "61fc0014-c0bf-4c02-d236-4cc0bf96d251"
      },
      "outputs": [
        {
          "output_type": "execute_result",
          "data": {
            "text/plain": [
              "{'learning_rate': 0.6,\n",
              " 'max_depth': 6,\n",
              " 'min_samples_leaf': 50,\n",
              " 'n_estimators': 200}"
            ]
          },
          "metadata": {},
          "execution_count": 16
        },
        {
          "output_type": "stream",
          "name": "stdout",
          "text": [
            "time: 5.59 ms (started: 2023-03-06 17:11:18 +00:00)\n"
          ]
        }
      ],
      "source": [
        "rank_roc_auc = gs.cv_results_['rank_test_roc_auc']\n",
        "best_roc_auc = np.where(rank_roc_auc==1)[0]\n",
        "gs.cv_results_['params'][best_roc_auc[0]]"
      ]
    },
    {
      "cell_type": "code",
      "execution_count": 17,
      "metadata": {
        "id": "ixcHMSQV82zt",
        "colab": {
          "base_uri": "https://localhost:8080/"
        },
        "outputId": "35d36139-40d7-4311-8e5f-abd7bccd2f81"
      },
      "outputs": [
        {
          "output_type": "execute_result",
          "data": {
            "text/plain": [
              "{'learning_rate': 0.6,\n",
              " 'max_depth': 6,\n",
              " 'min_samples_leaf': 50,\n",
              " 'n_estimators': 200}"
            ]
          },
          "metadata": {},
          "execution_count": 17
        },
        {
          "output_type": "stream",
          "name": "stdout",
          "text": [
            "time: 12.5 ms (started: 2023-03-06 17:11:18 +00:00)\n"
          ]
        }
      ],
      "source": [
        "rank_mcc = gs.cv_results_['rank_test_mcc']\n",
        "best_mcc = np.where(rank_mcc==1)[0]\n",
        "gs.cv_results_['params'][best_mcc[0]]"
      ]
    },
    {
      "cell_type": "markdown",
      "source": [
        "In this case, there is a model that maximizes the all four scores. We train it with the original features. We evaluate it on the test set."
      ],
      "metadata": {
        "id": "t7IeTCf3UPsQ"
      }
    },
    {
      "cell_type": "code",
      "execution_count": 35,
      "metadata": {
        "id": "IDFsz6Q48_zB",
        "colab": {
          "base_uri": "https://localhost:8080/"
        },
        "outputId": "2e2fc48b-520b-412e-bf53-01d8a98d0ae7"
      },
      "outputs": [
        {
          "output_type": "execute_result",
          "data": {
            "text/plain": [
              "Precision    0.909631\n",
              "F1           0.920864\n",
              "ROC_AUC      0.871790\n",
              "MCC          0.753918\n",
              "Name: Model_grid_search, dtype: float64"
            ]
          },
          "metadata": {},
          "execution_count": 35
        },
        {
          "output_type": "stream",
          "name": "stdout",
          "text": [
            "time: 18.6 s (started: 2023-03-06 17:31:24 +00:00)\n"
          ]
        }
      ],
      "source": [
        "gb = GradientBoostingClassifier(**gs.cv_results_['params'][best_mcc[0]], random_state=0)\n",
        "gb.fit(X_train,y_train)\n",
        "\n",
        "gs_scores = scores(gb,features=X_train.columns,name='Model_grid_search')\n",
        "gs_scores"
      ]
    },
    {
      "cell_type": "markdown",
      "source": [
        "### Comparison\n",
        "\n",
        "Compared with the raw model (no feature selection), the model obtained by Grid Searh performs less tha 1% better. In average it performs only .6% better.\n",
        "\n",
        "In other words, the model obtained using Binomial Test not only saved us 80% of computational costs but it performs just as well as the Grid Search model."
      ],
      "metadata": {
        "id": "rd6ljgAm2ZBn"
      }
    },
    {
      "cell_type": "code",
      "source": [
        "gs_scores-simple_scores"
      ],
      "metadata": {
        "colab": {
          "base_uri": "https://localhost:8080/"
        },
        "id": "TI17xOv81awV",
        "outputId": "d66d1eab-cedf-4fe7-ec53-e388eada6b46"
      },
      "execution_count": 38,
      "outputs": [
        {
          "output_type": "execute_result",
          "data": {
            "text/plain": [
              "Precision    0.013280\n",
              "F1           0.004332\n",
              "ROC_AUC      0.013464\n",
              "MCC          0.017815\n",
              "dtype: float64"
            ]
          },
          "metadata": {},
          "execution_count": 38
        },
        {
          "output_type": "stream",
          "name": "stdout",
          "text": [
            "time: 31.2 ms (started: 2023-03-06 17:32:43 +00:00)\n"
          ]
        }
      ]
    },
    {
      "cell_type": "markdown",
      "source": [
        "On the other hand, Grid search only performs 1% better than the model we found using feature selection."
      ],
      "metadata": {
        "id": "p2JHmZLoK-ME"
      }
    },
    {
      "cell_type": "code",
      "source": [
        "gs_scores-ob_scores"
      ],
      "metadata": {
        "colab": {
          "base_uri": "https://localhost:8080/"
        },
        "id": "ert4NQnh-G4u",
        "outputId": "2857d8bf-9f50-446a-d25c-fb64c1d66848"
      },
      "execution_count": 48,
      "outputs": [
        {
          "output_type": "execute_result",
          "data": {
            "text/plain": [
              "Precision    0.013280\n",
              "F1           0.004332\n",
              "ROC_AUC      0.013464\n",
              "MCC          0.017815\n",
              "dtype: float64"
            ]
          },
          "metadata": {},
          "execution_count": 48
        },
        {
          "output_type": "stream",
          "name": "stdout",
          "text": [
            "time: 10.5 ms (started: 2023-03-06 18:31:28 +00:00)\n"
          ]
        }
      ]
    },
    {
      "cell_type": "markdown",
      "source": [
        "###Conclusions\n",
        "\n",
        "Hypothesis testing can help decrease the computational expenses involved in identifying a machine learning model."
      ],
      "metadata": {
        "id": "hpaooJf7MXQt"
      }
    }
  ],
  "metadata": {
    "colab": {
      "provenance": [],
      "mount_file_id": "11P7A7CeTX4EhYZPuC-5Ep_oVvr8klnSl",
      "authorship_tag": "ABX9TyP/jfGEOoOD67+JiFy9knea"
    },
    "kernelspec": {
      "display_name": "Python 3",
      "name": "python3"
    },
    "language_info": {
      "name": "python"
    }
  },
  "nbformat": 4,
  "nbformat_minor": 0
}